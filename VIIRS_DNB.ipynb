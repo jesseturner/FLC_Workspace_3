{
 "cells": [
  {
   "cell_type": "code",
   "execution_count": 1,
   "metadata": {},
   "outputs": [],
   "source": [
    "#---Cloud search libraries\n",
    "import s3fs\n",
    "import requests\n",
    "import fnmatch\n",
    "\n",
    "#---Accessory libraries\n",
    "import datetime\n",
    "import netCDF4"
   ]
  },
  {
   "cell_type": "markdown",
   "metadata": {},
   "source": [
    "**Set the datetime and band to view:**"
   ]
  },
  {
   "cell_type": "code",
   "execution_count": 2,
   "metadata": {},
   "outputs": [
    {
     "name": "stdout",
     "output_type": "stream",
     "text": [
      "172\n"
     ]
    }
   ],
   "source": [
    "year = 2024\n",
    "month = 6\n",
    "day = 20\n",
    "hour = 6\n",
    "\n",
    "band = '14' #---Include the leading zero, if needed\n",
    "\n",
    "julian_day = datetime.datetime(year, month, day).strftime('%j')\n",
    "print(julian_day)\n",
    "\n",
    "datetime_str = str(year)+'-'+str(month).zfill(2)+'-'+str(day).zfill(2)+' '+str(hour).zfill(2)+'Z'"
   ]
  },
  {
   "cell_type": "markdown",
   "metadata": {},
   "source": [
    "**Connecting to AWS remote storage:**"
   ]
  },
  {
   "cell_type": "code",
   "execution_count": 3,
   "metadata": {},
   "outputs": [],
   "source": [
    "fs = s3fs.S3FileSystem(anon=True)"
   ]
  },
  {
   "cell_type": "markdown",
   "metadata": {},
   "source": [
    "**Search the AWS database:**"
   ]
  },
  {
   "cell_type": "code",
   "execution_count": 4,
   "metadata": {},
   "outputs": [
    {
     "name": "stdout",
     "output_type": "stream",
     "text": [
      "noaa-nesdis-n20-pds/VIIRS-DNB-SDR/2024/06/20/SVDNB_j01_d20240620_t0600123_e0601350_b34134_c20240620061221033000_oebc_ops.h5\n",
      "noaa-nesdis-n20-pds/VIIRS-DNB-GEO/2024/06/20/GDNBO_j01_d20240620_t0600123_e0601350_b34134_c20240620061023832000_oebc_ops.h5\n"
     ]
    }
   ],
   "source": [
    "#---NOAA-20\n",
    "bucket = 'noaa-nesdis-n20-pds'\n",
    "\n",
    "files = fs.ls(bucket+'/'+'VIIRS-DNB-SDR/'+str(year)+'/'+str(month).zfill(2)+'/'+str(day).zfill(2)+'/')\n",
    "files_geo = fs.ls(bucket+'/'+'VIIRS-DNB-GEO/'+str(year)+'/'+str(month).zfill(2)+'/'+str(day).zfill(2)+'/')\n",
    "\n",
    "files_hour = [file for file in files if fnmatch.fnmatch(file.split('/')[-1], 'SVDNB_j01_d'+str(year)+str(month).zfill(2)+str(day)+'_t'+str(hour).zfill(2)+'*')]\n",
    "files_hour_geo = [file for file in files_geo if fnmatch.fnmatch(file.split('/')[-1], 'GDNBO_j01_d'+str(year)+str(month).zfill(2)+str(day)+'_t'+str(hour).zfill(2)+'*')]\n",
    "\n",
    "print(files_hour[0])\n",
    "print(files_hour_geo[0])"
   ]
  },
  {
   "cell_type": "code",
   "execution_count": 5,
   "metadata": {},
   "outputs": [],
   "source": [
    "file = files_hour[0]\n",
    "file_geo = files_hour_geo[0]\n",
    "\n",
    "resp = requests.get(f'https://'+bucket+'.s3.amazonaws.com/'+file[20:])\n",
    "if str(resp) != '<Response [200]>':\n",
    "    print('DNB file not found in AWS servers')\n",
    "\n",
    "resp = requests.get(f'https://'+bucket+'.s3.amazonaws.com/'+file_geo[20:])\n",
    "if str(resp) != '<Response [200]>':\n",
    "    print('DNB GEO file not found in AWS servers')\n",
    "\n",
    "\n",
    "\n",
    "nc = netCDF4.Dataset(file, memory = resp.content)\n",
    "nc_geo = netCDF4.Dataset(file_geo, memory = resp.content)"
   ]
  },
  {
   "cell_type": "code",
   "execution_count": 6,
   "metadata": {},
   "outputs": [
    {
     "data": {
      "text/plain": [
       "<class 'netCDF4._netCDF4.Group'>\n",
       "group /All_Data/VIIRS-DNB-GEO_All:\n",
       "    dimensions(sizes): phony_dim_0(768), phony_dim_1(4064), phony_dim_2(48), phony_dim_3(1), phony_dim_4(3)\n",
       "    variables(dimensions): float32 Height(phony_dim_0, phony_dim_1), float32 Height_TC(phony_dim_0, phony_dim_1), float32 Latitude(phony_dim_0, phony_dim_1), float32 Latitude_TC(phony_dim_0, phony_dim_1), float32 Longitude(phony_dim_0, phony_dim_1), float32 Longitude_TC(phony_dim_0, phony_dim_1), float32 LunarAzimuthAngle(phony_dim_0, phony_dim_1), float32 LunarZenithAngle(phony_dim_0, phony_dim_1), int64 MidTime(phony_dim_2), uint8 ModeGran(phony_dim_3), uint8 ModeScan(phony_dim_2), float32 MoonIllumFraction(phony_dim_3), float32 MoonPhaseAngle(phony_dim_3), int32 NumberOfScans(phony_dim_3), uint8 PadByte1(phony_dim_4), uint8 QF1_SCAN_VIIRSSDRGEO(phony_dim_2), uint8 QF2_SCAN_VIIRSSDRGEO(phony_dim_2), uint8 QF2_VIIRSSDRGEO(phony_dim_0, phony_dim_1), uint8 QF2_VIIRSSDRGEO_TC(phony_dim_0, phony_dim_1), float32 SCAttitude(phony_dim_2, phony_dim_4), float32 SCPosition(phony_dim_2, phony_dim_4), float32 SCSolarAzimuthAngle(phony_dim_2), float32 SCSolarZenithAngle(phony_dim_2), float32 SCVelocity(phony_dim_2, phony_dim_4), float32 SatelliteAzimuthAngle(phony_dim_0, phony_dim_1), float32 SatelliteRange(phony_dim_0, phony_dim_1), float32 SatelliteZenithAngle(phony_dim_0, phony_dim_1), float32 SolarAzimuthAngle(phony_dim_0, phony_dim_1), float32 SolarZenithAngle(phony_dim_0, phony_dim_1), int64 StartTime(phony_dim_2)\n",
       "    groups: "
      ]
     },
     "execution_count": 6,
     "metadata": {},
     "output_type": "execute_result"
    }
   ],
   "source": [
    "nc.groups['All_Data']['VIIRS-DNB-GEO_All']"
   ]
  },
  {
   "cell_type": "code",
   "execution_count": null,
   "metadata": {},
   "outputs": [],
   "source": []
  }
 ],
 "metadata": {
  "kernelspec": {
   "display_name": "FLC",
   "language": "python",
   "name": "python3"
  },
  "language_info": {
   "codemirror_mode": {
    "name": "ipython",
    "version": 3
   },
   "file_extension": ".py",
   "mimetype": "text/x-python",
   "name": "python",
   "nbconvert_exporter": "python",
   "pygments_lexer": "ipython3",
   "version": "3.10.11"
  }
 },
 "nbformat": 4,
 "nbformat_minor": 2
}
