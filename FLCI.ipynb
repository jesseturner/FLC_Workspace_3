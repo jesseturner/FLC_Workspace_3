{
 "cells": [
  {
   "cell_type": "markdown",
   "metadata": {},
   "source": [
    "# Simulation of 11-3.9um brightness temperature difference"
   ]
  },
  {
   "cell_type": "markdown",
   "metadata": {},
   "source": [
    "### Setup"
   ]
  },
  {
   "cell_type": "markdown",
   "metadata": {},
   "source": [
    "**Libraries used:**"
   ]
  },
  {
   "cell_type": "code",
   "execution_count": null,
   "metadata": {},
   "outputs": [],
   "source": [
    "import xarray as xr\n",
    "import matplotlib.pyplot as plt\n",
    "import cartopy.crs as ccrs\n",
    "import numpy as np\n",
    "import pandas as pd\n",
    "import matplotlib.colors as mcolors\n",
    "import cartopy.feature as feature"
   ]
  },
  {
   "cell_type": "markdown",
   "metadata": {},
   "source": [
    "**Retrieve GFS data:**"
   ]
  },
  {
   "cell_type": "code",
   "execution_count": null,
   "metadata": {},
   "outputs": [],
   "source": [
    "date_str = \"20230417\""
   ]
  },
  {
   "cell_type": "code",
   "execution_count": null,
   "metadata": {},
   "outputs": [],
   "source": [
    "gfs_file = 'model_data/gfs_'+date_str\n",
    "gfs_ds = xr.open_dataset(gfs_file, engine=\"cfgrib\",backend_kwargs={'filter_by_keys': {'typeOfLevel':'isobaricInhPa'}})"
   ]
  },
  {
   "cell_type": "markdown",
   "metadata": {},
   "source": [
    "**Select region for simulation:**"
   ]
  },
  {
   "cell_type": "code",
   "execution_count": null,
   "metadata": {},
   "outputs": [],
   "source": [
    "#--- Georges Bank\n",
    "# latitude_north = 46\n",
    "# latitude_south = 33\n",
    "# longitude_west = -73\n",
    "# longitude_east = -57\n",
    "\n",
    "#--- Oaxaca\n",
    "# latitude_north = 24\n",
    "# latitude_south = 8\n",
    "# longitude_west = -109\n",
    "# longitude_east = -81\n",
    "\n",
    "#--- Global\n",
    "# latitude_north = 90\n",
    "# latitude_south = -90\n",
    "# longitude_west = -360\n",
    "# longitude_east = 0\n",
    "\n",
    "#--- Gulf Stream\n",
    "latitude_north = 51\n",
    "latitude_south = 30\n",
    "longitude_west = -80\n",
    "longitude_east = -55\n",
    "\n",
    "region = gfs_ds.sel(latitude=slice(latitude_north, latitude_south), longitude=slice(360+longitude_west, 360+longitude_east))\n"
   ]
  },
  {
   "cell_type": "code",
   "execution_count": null,
   "metadata": {},
   "outputs": [],
   "source": [
    "datetime_str = np.datetime_as_string(region.time.values, unit='h')\n",
    "datetime_str = datetime_str.replace('T', ' ')+\"Z\"\n",
    "print(datetime_str)"
   ]
  },
  {
   "cell_type": "markdown",
   "metadata": {},
   "source": [
    "### Generate optical thickness tables"
   ]
  },
  {
   "cell_type": "markdown",
   "metadata": {},
   "source": [
    "**Calculate the water vapor mass density for the region:**\n",
    "* this is described in RadTran Miller presentation notes\n",
    "* $r_g$ is the mixing ratio of water vapor, averaged between the layers ($p_1$ and $p_2$)\n",
    "* mass density ($u$) is in kg m-2\n",
    "\n",
    "$$\n",
    "u(p_1, p_2) = \\frac{1}{g}\\int_{p_2}^{p_1} r_g dp\n",
    "$$"
   ]
  },
  {
   "cell_type": "code",
   "execution_count": null,
   "metadata": {},
   "outputs": [],
   "source": [
    "g = 9.807 #m s-2\n",
    "u = []\n",
    "\n",
    "for i in range(len(region.isobaricInhPa.values)-1):\n",
    "    p1 = region.isobaricInhPa.values[i]*100 #kg s-2 m-1\n",
    "    p2 = region.isobaricInhPa.values[i+1]*100 #kg s-2 m-1\n",
    "    dp = p1-p2\n",
    "\n",
    "    r_g = (region.q.values[i] + region.q.values[i+1]) / 2 #kg kg-1\n",
    "\n",
    "    u.append((1/g)*r_g*dp) #kg m-2\n",
    "\n",
    "#--- u has dimensions of (hPa, lat, lon)\n"
   ]
  },
  {
   "cell_type": "markdown",
   "metadata": {},
   "source": [
    "**Create an optical mass table:**\n",
    "* The data is 3-dimensional (pressure, latitude, longitude), so the pandas dataframe is no longer the best method\n",
    "* Instead, we build an x-array to store the optical mass values"
   ]
  },
  {
   "cell_type": "code",
   "execution_count": null,
   "metadata": {},
   "outputs": [],
   "source": [
    "optical_mass_da = xr.DataArray(u, dims=('hPa', 'lat', 'lon'),\n",
    "                    coords={'hPa': region.isobaricInhPa.values[0:-1], 'lat': region.latitude.values, 'lon': region.longitude.values})\n",
    "temperature_da = xr.DataArray(region.t[0:-1], dims=('hPa', 'lat', 'lon'),\n",
    "                    coords={'hPa': region.isobaricInhPa.values[0:-1], 'lat': region.latitude.values, 'lon': region.longitude.values})\n",
    "\n",
    "\n",
    "optical_mass_ds = xr.Dataset({'u': optical_mass_da,\n",
    "                              'T': temperature_da})"
   ]
  },
  {
   "cell_type": "markdown",
   "metadata": {},
   "source": [
    "**Open the mass extinction look-up tables:**\n",
    "* made in water_vapor_abs.ipynb"
   ]
  },
  {
   "cell_type": "code",
   "execution_count": null,
   "metadata": {},
   "outputs": [],
   "source": [
    "mass_ext_df_13 = pd.read_pickle('tables/mass_ext_band13')\n",
    "mass_ext_df_14 = pd.read_pickle('tables/mass_ext_band14')\n",
    "mass_ext_df_07 = pd.read_pickle('tables/mass_ext_band07')"
   ]
  },
  {
   "cell_type": "markdown",
   "metadata": {},
   "source": [
    "**Create the optical thickness table (optical mass * mass extinction):**\n",
    "* using the mass extinction look-up tables (HITRAN-driven)\n",
    "* using the optical mass table (GFS-driven)"
   ]
  },
  {
   "cell_type": "code",
   "execution_count": null,
   "metadata": {},
   "outputs": [],
   "source": [
    "#--- Ran through chatGPT, asked the algorithm to make more efficient\n",
    "#------ Takes 30 minutes for global run\n",
    "\n",
    "pressure_profile = optical_mass_ds.hPa[:21].values\n",
    "lat_len = len(optical_mass_ds.lat)\n",
    "lon_len = len(optical_mass_ds.lon)\n",
    "\n",
    "# Pre-allocate arrays\n",
    "optical_thickness_07 = np.zeros([len(pressure_profile), lat_len, lon_len])\n",
    "optical_thickness_13 = np.zeros([len(pressure_profile), lat_len, lon_len])\n",
    "optical_thickness_14 = np.zeros([len(pressure_profile), lat_len, lon_len])\n",
    "\n",
    "# Extract the relevant slices once\n",
    "temperatures = optical_mass_ds['T'].isel(hPa=slice(0, 21)).values\n",
    "optical_masses = optical_mass_ds['u'].isel(hPa=slice(0, 21)).values\n",
    "\n",
    "# Pre-calculate nearest temperature and pressure indices for all bands\n",
    "nearest_temp_indices_07 = np.argmin((mass_ext_df_07.index.values[:, None] - temperatures.flatten())**2, axis=0)\n",
    "nearest_pressure_indices_07 = np.argmin((mass_ext_df_07.columns.values[:, None] - pressure_profile)**2, axis=0)\n",
    "\n",
    "nearest_temp_indices_13 = np.argmin((mass_ext_df_13.index.values[:, None] - temperatures.flatten())**2, axis=0)\n",
    "nearest_pressure_indices_13 = np.argmin((mass_ext_df_13.columns.values[:, None] - pressure_profile)**2, axis=0)\n",
    "\n",
    "nearest_temp_indices_14 = np.argmin((mass_ext_df_14.index.values[:, None] - temperatures.flatten())**2, axis=0)\n",
    "nearest_pressure_indices_14 = np.argmin((mass_ext_df_14.columns.values[:, None] - pressure_profile)**2, axis=0)\n",
    "\n",
    "# Reshape indices to match the dimensions of temperatures\n",
    "nearest_temp_indices_07 = nearest_temp_indices_07.reshape((len(pressure_profile), lat_len, lon_len))\n",
    "nearest_pressure_indices_07 = nearest_pressure_indices_07.reshape(len(pressure_profile))\n",
    "\n",
    "nearest_temp_indices_13 = nearest_temp_indices_13.reshape((len(pressure_profile), lat_len, lon_len))\n",
    "nearest_pressure_indices_13 = nearest_pressure_indices_13.reshape(len(pressure_profile))\n",
    "\n",
    "nearest_temp_indices_14 = nearest_temp_indices_14.reshape((len(pressure_profile), lat_len, lon_len))\n",
    "nearest_pressure_indices_14 = nearest_pressure_indices_14.reshape(len(pressure_profile))\n",
    "\n",
    "# Iterate through the grid points\n",
    "for z in range(len(pressure_profile)):\n",
    "    print(pressure_profile[z])\n",
    "    for y in range(lat_len):\n",
    "        for x in range(lon_len):\n",
    "            optical_mass_value = optical_masses[z, y, x]\n",
    "\n",
    "            # Lookup the mass extinction values using pre-calculated indices\n",
    "            mass_ext_value_07 = mass_ext_df_07.iloc[nearest_temp_indices_07[z, y, x], nearest_pressure_indices_07[z]]\n",
    "            optical_thickness_07[z, y, x] = optical_mass_value * mass_ext_value_07\n",
    "\n",
    "            mass_ext_value_13 = mass_ext_df_13.iloc[nearest_temp_indices_13[z, y, x], nearest_pressure_indices_13[z]]\n",
    "            optical_thickness_13[z, y, x] = optical_mass_value * mass_ext_value_13\n",
    "\n",
    "            mass_ext_value_14 = mass_ext_df_14.iloc[nearest_temp_indices_14[z, y, x], nearest_pressure_indices_14[z]]\n",
    "            optical_thickness_14[z, y, x] = optical_mass_value * mass_ext_value_14\n",
    "\n",
    "print(np.shape(optical_thickness_07))\n",
    "\n"
   ]
  },
  {
   "cell_type": "markdown",
   "metadata": {},
   "source": [
    "### Build functions for radiance and brightness temperature"
   ]
  },
  {
   "cell_type": "markdown",
   "metadata": {},
   "source": [
    "**Build the functions for expected radiance and brightness temperature:**\n",
    "* functions are similar to those in expected_radiance.ipynb, but for a 3d field"
   ]
  },
  {
   "cell_type": "markdown",
   "metadata": {},
   "source": [
    "**Calculating the blackbody radiance ($B_\\lambda^\\uparrow$):**\n",
    "\n",
    "$$\n",
    "B_\\lambda (T) = \\frac{2hc^2}{\\lambda^5 [e^{hc/k\\lambda T} -1]}\n",
    "$$\n",
    "\n",
    "* $h$ is the Planck constant, $6.626 \\times 10^{-34} \\text{ J s}$\n",
    "* $c$ is the speed of light, $3 \\times 10^{8} \\text{ m s}^{-1}$\n",
    "* $k$ is the Boltzmann constant, $1.380 \\times 10^{-23} \\text{ J K}^{-1}$"
   ]
  },
  {
   "cell_type": "code",
   "execution_count": null,
   "metadata": {},
   "outputs": [],
   "source": [
    "def blackbody_radiance(T, wl):\n",
    "    h = 6.626e-34\n",
    "    c = 3e8\n",
    "    k = 1.380e-23\n",
    "    B = (2*h*c**2)/(wl**5 * (np.exp((h*c)/(k*wl*T))-1))\n",
    "    return B"
   ]
  },
  {
   "cell_type": "markdown",
   "metadata": {},
   "source": [
    "**Calculating expected radiance ($I_\\lambda$):**\n",
    "\n",
    "$$\n",
    "I_\\lambda^\\uparrow (\\infty, \\mu)= B_\\lambda^\\uparrow (T_\\text{sfc}) e^{-\\tau^*_\\lambda / \\mu} + \\sum_{i=0}^N B_\\lambda^\\uparrow (z_i) \\frac{d\\mathfrak{T}_\\lambda^\\uparrow (z_i, \\infty, \\mu)}{dz} \\Delta z_i\n",
    "$$\n",
    "\n",
    "* $B_\\lambda^\\uparrow (T_\\text{sfc})$ is the blackbody radiance from the surface temperature\n",
    "* $\\tau^*$ is optical thickness of atmosphere\n",
    "* $\\mathfrak{T}_\\lambda^\\uparrow (z_i, \\infty, \\mu)$ is transmittance upward from height level ($z_i$) to TOA ($\\infty$) with viewing angle ($\\mu$)"
   ]
  },
  {
   "cell_type": "markdown",
   "metadata": {},
   "source": [
    "**Calculating radiance from surface:**\n",
    "\n",
    "Equation for expected radiance ($I_\\lambda^\\uparrow$) from the surface through the TOA. Includes the total absorption by the optical thickness, but not the individual absorption/emission of each layer. \n",
    "\n",
    "$$\n",
    "B_\\lambda^\\uparrow (T_\\text{sfc}) e^{-\\tau^*_\\lambda / \\mu}\n",
    "$$"
   ]
  },
  {
   "cell_type": "code",
   "execution_count": null,
   "metadata": {},
   "outputs": [],
   "source": [
    "def I_sfc(T_sfc, optical_thickness, wl):\n",
    "\n",
    "    #--- viewing angle of the satellite\n",
    "    mu = 1\n",
    "\n",
    "    #--- numpy 3D array sum over the pressure axis\n",
    "    tau_star = np.sum(optical_thickness, axis=0)\n",
    "    \n",
    "    #--- expected radiance calculation\n",
    "    I_sfc = blackbody_radiance(T_sfc, wl)*np.exp(-tau_star/mu)\n",
    "\n",
    "    return I_sfc"
   ]
  },
  {
   "cell_type": "markdown",
   "metadata": {},
   "source": [
    "**Calculating radiance from atmosphere:**\n",
    "\n",
    "Equation for the expected radiance ($I_\\lambda^\\uparrow$) from the absorption/emission of each atmospheric layer. \n",
    "\n",
    "$$\n",
    "\\sum_{i=0}^N B_\\lambda^\\uparrow (z_i) \\frac{d\\mathfrak{T}_\\lambda^\\uparrow (z_i, \\infty, \\mu)}{dz} \\Delta z_i\n",
    "$$"
   ]
  },
  {
   "cell_type": "code",
   "execution_count": null,
   "metadata": {},
   "outputs": [],
   "source": [
    "def I_atm(optical_thickness, optical_mass_ds, wl):\n",
    "\n",
    "    #--- Number of pressure levels for integration\n",
    "    p_len = np.shape(optical_thickness)[0] - 1\n",
    "\n",
    "    I_levels = []\n",
    "    mu = 1\n",
    "\n",
    "    for i in range(p_len):\n",
    "\n",
    "        #---Temperature and blackbody radiance at current level\n",
    "        T = optical_mass_ds.isel(hPa=i)['T']\n",
    "        B = blackbody_radiance(T, wl)\n",
    "\n",
    "        tau_above = np.sum(optical_thickness[i+1:], axis=0)\n",
    "        tau_level = np.sum(optical_thickness[i:], axis=0)\n",
    "\n",
    "        press_levels = optical_mass_ds['hPa'][:21].values\n",
    "        dp = press_levels[i+1] - press_levels[i]\n",
    "\n",
    "        dT_dp = ((np.exp(-tau_above/mu)) - (np.exp(-tau_level/mu))) / dp\n",
    "        \n",
    "        #---Radiance from each atmospheric level\n",
    "        I_level = B*dT_dp*dp\n",
    "        I_levels.append(I_level)\n",
    "\n",
    "    #---Summing the radiance to get the total at TOA\n",
    "    I_atm = np.sum(I_levels, axis=0)\n",
    "    return I_atm"
   ]
  },
  {
   "cell_type": "markdown",
   "metadata": {},
   "source": [
    "**Calculating the brightness temperature:**\n",
    "\n",
    "Calculating the brightness temperature ($T_{b,\\lambda}$) from the expected radiance: \n",
    "\n",
    "$$\n",
    "T_{b,\\lambda} = \\frac{hc}{k\\lambda \\text{ ln}\\left[1+\\frac{2hc^2}{I \\lambda^5}\\right]}\n",
    "$$"
   ]
  },
  {
   "cell_type": "code",
   "execution_count": null,
   "metadata": {},
   "outputs": [],
   "source": [
    "def brightness_temperature(I, wl):\n",
    "    h = 6.626e-34\n",
    "    c = 3e8\n",
    "    k = 1.380e-23\n",
    "    Tb = (h*c)/(k*wl * np.log(1 + ((2*h*c**2)/(I*wl**5))))\n",
    "    return Tb"
   ]
  },
  {
   "cell_type": "markdown",
   "metadata": {},
   "source": [
    "### Run brightness temperature for specific wavelength (set here)"
   ]
  },
  {
   "cell_type": "markdown",
   "metadata": {},
   "source": [
    "**Setting wavelength of interest:**"
   ]
  },
  {
   "cell_type": "code",
   "execution_count": null,
   "metadata": {},
   "outputs": [],
   "source": [
    "wl = 3.9e-6\n",
    "optical_thickness = optical_thickness_07\n",
    "wl_str = str(wl*1e6).replace(\".\", \"_\")"
   ]
  },
  {
   "cell_type": "markdown",
   "metadata": {},
   "source": [
    "**Brightness temperature using NOAA SST as surface:**"
   ]
  },
  {
   "cell_type": "code",
   "execution_count": null,
   "metadata": {},
   "outputs": [],
   "source": [
    "sst_file = \"sst_data/sst_\"+date_str\n",
    "\n",
    "sst_ds = xr.open_dataset(sst_file)\n",
    "sst_ds =  sst_ds.squeeze()\n",
    "\n",
    "#--- Convert from C to K\n",
    "sst_ds.sst.values = sst_ds.sst.values+273.15"
   ]
  },
  {
   "cell_type": "code",
   "execution_count": null,
   "metadata": {},
   "outputs": [],
   "source": [
    "#--- Fill the nan values with zero\n",
    "sst_ds = sst_ds.sst.fillna(0)"
   ]
  },
  {
   "cell_type": "markdown",
   "metadata": {},
   "source": [
    "Crop SST data down to the same range as the model data: \n",
    "* The latitude slice also flips the dataset, so that the north/south orientation is correct"
   ]
  },
  {
   "cell_type": "code",
   "execution_count": null,
   "metadata": {},
   "outputs": [],
   "source": [
    "sst_ds = sst_ds.sel(lat=slice(latitude_north,latitude_south,-1), lon=slice(longitude_west+360,longitude_east+360))"
   ]
  },
  {
   "cell_type": "markdown",
   "metadata": {},
   "source": [
    "Match the SST shape to the GFS shape:"
   ]
  },
  {
   "cell_type": "code",
   "execution_count": null,
   "metadata": {},
   "outputs": [],
   "source": [
    "print(\"Shape of SST array:\", np.shape(sst_ds))\n",
    "print(\"Shape of optical thickness array:\", np.shape(optical_thickness))\n",
    "\n",
    "#--- This copies two edges out by one more row, to fit the dimensions of the model data\n",
    "#sst_padded = np.pad(sst_ds, ((0, 1), (0, 1)), mode='edge')\n",
    "\n",
    "#--- Global mapping causes border issue, this is a workaround\n",
    "sst_padded = np.pad(sst_ds, ((0, 1), (0, 0)), mode='edge')\n",
    "\n",
    "print(\"Shape of SST padded array:\", np.shape(sst_padded))"
   ]
  },
  {
   "cell_type": "code",
   "execution_count": null,
   "metadata": {},
   "outputs": [],
   "source": [
    "region.longitude.values-180"
   ]
  },
  {
   "cell_type": "code",
   "execution_count": null,
   "metadata": {},
   "outputs": [],
   "source": [
    "region.longitude.values"
   ]
  },
  {
   "cell_type": "code",
   "execution_count": null,
   "metadata": {},
   "outputs": [],
   "source": [
    "I_tot = I_sfc(sst_padded, optical_thickness, wl) + I_atm(optical_thickness, optical_mass_ds, wl)\n",
    "\n",
    "Tb = brightness_temperature(I_tot, wl)\n",
    "\n",
    "projection=ccrs.PlateCarree(central_longitude=0)\n",
    "fig,ax=plt.subplots(1, figsize=(12,12),subplot_kw={'projection': projection})\n",
    "cmap = plt.cm.coolwarm\n",
    "levels = np.linspace(270, 300, 31)\n",
    "\n",
    "#--- The transformations for SST lose the lon and lat, so I reference the grid made at the beginning\n",
    "#c=ax.contourf(region.longitude, region.latitude, Tb, cmap=cmap, extend='both', levels=levels)\n",
    "\n",
    "ax.set_xlim(-180, 180)\n",
    "ax.set_ylim(-90, 90)\n",
    "\n",
    "#--- Global mapping has an issue at the borders\n",
    "c=ax.contourf(region.longitude, region.latitude, Tb, cmap=cmap, extend='both', levels=levels)\n",
    "\n",
    "clb = plt.colorbar(c, shrink=0.6, pad=0.02, ax=ax)\n",
    "clb.ax.tick_params(labelsize=15)\n",
    "clb.set_label('(K)', fontsize=15)\n",
    "\n",
    "#--- Remove for global mapping\n",
    "#ax.set_extent([longitude_west, longitude_east, latitude_south, latitude_north], crs=ccrs.PlateCarree())\n",
    "\n",
    "ax.set_title(\"Simulated brightness temperature (\"+ str(round(wl*1e6, 1)) +\" um) \\n(\"+datetime_str+\")\", fontsize=20, pad=10)\n",
    "ax.coastlines(resolution='50m', color='black', linewidth=1)\n",
    "\n",
    "#fig.savefig(\"/Users/jturner/Downloads/brightness_temperature_sst_\"+wl_str+\"_\"+date_str, dpi=200, bbox_inches='tight')"
   ]
  },
  {
   "cell_type": "markdown",
   "metadata": {},
   "source": [
    "### Calculate the brightness temperature difference"
   ]
  },
  {
   "cell_type": "markdown",
   "metadata": {},
   "source": [
    "**Calculating the brightness temperature difference:**"
   ]
  },
  {
   "cell_type": "code",
   "execution_count": null,
   "metadata": {},
   "outputs": [],
   "source": [
    "first_wl = 11.2e-6\n",
    "first_optical_thickness = optical_thickness_14\n",
    "first_wl_str = str(first_wl*1e6).replace(\".\", \"_\")\n",
    "\n",
    "second_wl = 3.9e-6\n",
    "second_optical_thickness = optical_thickness_07\n",
    "second_wl_str = str(second_wl*1e6).replace(\".\", \"_\")"
   ]
  },
  {
   "cell_type": "code",
   "execution_count": null,
   "metadata": {},
   "outputs": [],
   "source": [
    "#--- Using the SST surface emission\n",
    "\n",
    "first_I_tot = I_sfc(sst_padded, first_optical_thickness, first_wl) + I_atm(first_optical_thickness, optical_mass_ds, first_wl)\n",
    "second_I_tot = I_sfc(sst_padded, second_optical_thickness, second_wl) + I_atm(second_optical_thickness, optical_mass_ds, second_wl)\n",
    "\n",
    "BTD = brightness_temperature(first_I_tot, first_wl) - brightness_temperature(second_I_tot, second_wl)\n",
    "projection=ccrs.PlateCarree(central_longitude=0)\n",
    "fig,ax=plt.subplots(1, figsize=(12,12),subplot_kw={'projection': projection})\n",
    "cmap = plt.cm.Blues\n",
    "#cmap = plt.cm.RdGy_r\n",
    "\n",
    "#---Local max and min, taking into account the zeroes from the NAN region (land)\n",
    "max_BTD = max([value for row in BTD for value in row if value > -20], default=None)\n",
    "min_BTD = min([value for row in BTD for value in row if value > -20], default=None)\n",
    "\n",
    "#levels = np.linspace(min_BTD, max_BTD, 31)\n",
    "levels = np.linspace(0, 3, 31)\n",
    "\n",
    "#--- Original local mapping\n",
    "c=ax.contourf(region.longitude, region.latitude, BTD, cmap=cmap, extend='max', levels=levels)\n",
    "\n",
    "#--- Adding point for checking BTD\n",
    "latitude = 41\n",
    "longitude = -68\n",
    "#plt.scatter(longitude, latitude, c='blue', edgecolors='white', s=40)\n",
    "\n",
    "clb = plt.colorbar(c, shrink=0.4, pad=0.02, ax=ax)\n",
    "clb.ax.tick_params(labelsize=15)\n",
    "clb.set_label('(K)', fontsize=15)\n",
    "\n",
    "#--- Remove for global mapping\n",
    "#ax.set_extent([longitude_west, longitude_east, latitude_south, latitude_north], crs=ccrs.PlateCarree())\n",
    "\n",
    "ax.set_title(\"Simulated BTD (\"+ str(round(first_wl*1e6, 1)) + \"um - \" + str(round(second_wl*1e6, 1)) +\"um) \\n(\"+datetime_str+\")\", fontsize=20, pad=10)\n",
    "#ax.coastlines(resolution='50m', color='black', linewidth=3)\n",
    "ax.add_feature(feature.LAND, zorder=100, edgecolor='k', facecolor='grey')\n",
    "\n",
    "#fig.savefig(\"/Users/jturner/Downloads/BTD_SST_\"+first_wl_str+\"_minus_\"+second_wl_str+\"_\"+date_str, dpi=200, bbox_inches='tight')"
   ]
  },
  {
   "cell_type": "markdown",
   "metadata": {},
   "source": [
    "### Wind speed and direction"
   ]
  },
  {
   "cell_type": "code",
   "execution_count": null,
   "metadata": {},
   "outputs": [],
   "source": [
    "projection=ccrs.PlateCarree(central_longitude=0)\n",
    "fig,ax=plt.subplots(1, figsize=(12,12),subplot_kw={'projection': projection})\n",
    "\n",
    "\n",
    "X, Y = np.meshgrid(region['longitude'], region['latitude'])\n",
    "X = X[0:len(region['latitude']):3,0:len(region['longitude']):3]\n",
    "Y = Y[0:len(region['latitude']):3,0:len(region['longitude']):3]\n",
    "\n",
    "U = region['u'][0,:,:].values[0:len(region['latitude']):3,0:len(region['longitude']):3]\n",
    "V = region['v'][0,:,:].values[0:len(region['latitude']):3,0:len(region['longitude']):3]\n",
    "\n",
    "arrow_lengths = np.sqrt(U**2 + V**2)\n",
    "colors = plt.get_cmap('Greys')\n",
    "norm = mcolors.Normalize(vmin=0, vmax=25) \n",
    "\n",
    "q = ax.quiver(X, Y, U, V, arrow_lengths, cmap=colors, norm=norm, transform=ccrs.PlateCarree(), width=0.003, scale_units='xy', scale=10)\n",
    "\n",
    "clb = plt.colorbar(q, shrink=0.4, pad=0.02, ax=ax, extend='max')\n",
    "clb.ax.tick_params(labelsize=15)\n",
    "clb.set_label('(m/s)', fontsize=15)\n",
    "\n",
    "ax.set_extent([longitude_west, longitude_east, latitude_south, latitude_north], crs=ccrs.PlateCarree())\n",
    "\n",
    "ax.set_title(\"Wind speed and direction \\n(\"+datetime_str+\")\", fontsize=20, pad=10)\n",
    "ax.coastlines(resolution='50m', color='black', linewidth=1)\n",
    "\n",
    "fig.show()"
   ]
  },
  {
   "cell_type": "markdown",
   "metadata": {},
   "source": [
    "### Sea surface temperature"
   ]
  },
  {
   "cell_type": "code",
   "execution_count": null,
   "metadata": {},
   "outputs": [],
   "source": [
    "projection=ccrs.PlateCarree(central_longitude=0)\n",
    "fig,ax=plt.subplots(1, figsize=(12,12),subplot_kw={'projection': projection})\n",
    "\n",
    "levels = np.linspace(290, 305, 31)\n",
    "cmap = plt.get_cmap('Greys')\n",
    "\n",
    "c=ax.contourf(region.longitude, region.latitude, sst_padded, cmap=cmap, extend='both', levels=levels)\n",
    "\n",
    "clb = plt.colorbar(c, shrink=0.4, pad=0.02, ax=ax, extend='both')\n",
    "clb.ax.tick_params(labelsize=15)\n",
    "clb.set_label('(K)', fontsize=15)\n",
    "\n",
    "ax.set_extent([longitude_west, longitude_east, latitude_south, latitude_north], crs=ccrs.PlateCarree())\n",
    "\n",
    "ax.set_title(\"Sea surface temperature \\n(\"+datetime_str[:10]+\")\", fontsize=20, pad=10)\n",
    "ax.coastlines(resolution='50m', color='black', linewidth=1)\n",
    "\n",
    "fig.show()"
   ]
  },
  {
   "cell_type": "code",
   "execution_count": null,
   "metadata": {},
   "outputs": [],
   "source": []
  }
 ],
 "metadata": {
  "kernelspec": {
   "display_name": "FLC",
   "language": "python",
   "name": "python3"
  },
  "language_info": {
   "codemirror_mode": {
    "name": "ipython",
    "version": 3
   },
   "file_extension": ".py",
   "mimetype": "text/x-python",
   "name": "python",
   "nbconvert_exporter": "python",
   "pygments_lexer": "ipython3",
   "version": "3.12.3"
  }
 },
 "nbformat": 4,
 "nbformat_minor": 2
}
