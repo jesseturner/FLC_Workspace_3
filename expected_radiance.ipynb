{
 "cells": [
  {
   "cell_type": "code",
   "execution_count": 1,
   "metadata": {},
   "outputs": [],
   "source": [
    "import pandas as pd\n",
    "import matplotlib.pyplot as plt\n",
    "import numpy as np"
   ]
  },
  {
   "cell_type": "code",
   "execution_count": 2,
   "metadata": {},
   "outputs": [],
   "source": [
    "#---Open the look-up-table made in water_vapor_optical_thickness\n",
    "optical_thickness_df_07 = pd.read_pickle('tables/optical_thickness_band07')\n",
    "optical_thickness_df_13 = pd.read_pickle('tables/optical_thickness_band13')\n",
    "optical_thickness_df_14 = pd.read_pickle('tables/optical_thickness_band14')\n",
    "\n",
    "#---Open the optical mass made in water_vapor_profile\n",
    "optical_mass_df = pd.read_pickle('tables/optical_mass_example')"
   ]
  },
  {
   "cell_type": "code",
   "execution_count": 3,
   "metadata": {},
   "outputs": [
    {
     "data": {
      "text/html": [
       "<div>\n",
       "<style scoped>\n",
       "    .dataframe tbody tr th:only-of-type {\n",
       "        vertical-align: middle;\n",
       "    }\n",
       "\n",
       "    .dataframe tbody tr th {\n",
       "        vertical-align: top;\n",
       "    }\n",
       "\n",
       "    .dataframe thead th {\n",
       "        text-align: right;\n",
       "    }\n",
       "</style>\n",
       "<table border=\"1\" class=\"dataframe\">\n",
       "  <thead>\n",
       "    <tr style=\"text-align: right;\">\n",
       "      <th></th>\n",
       "      <th>Optical Thickness</th>\n",
       "    </tr>\n",
       "  </thead>\n",
       "  <tbody>\n",
       "    <tr>\n",
       "      <th>1000.0</th>\n",
       "      <td>5.284162e-05</td>\n",
       "    </tr>\n",
       "    <tr>\n",
       "      <th>975.0</th>\n",
       "      <td>4.399260e-05</td>\n",
       "    </tr>\n",
       "    <tr>\n",
       "      <th>950.0</th>\n",
       "      <td>4.131971e-05</td>\n",
       "    </tr>\n",
       "    <tr>\n",
       "      <th>925.0</th>\n",
       "      <td>3.872974e-05</td>\n",
       "    </tr>\n",
       "    <tr>\n",
       "      <th>900.0</th>\n",
       "      <td>7.043308e-05</td>\n",
       "    </tr>\n",
       "    <tr>\n",
       "      <th>850.0</th>\n",
       "      <td>5.670890e-05</td>\n",
       "    </tr>\n",
       "    <tr>\n",
       "      <th>800.0</th>\n",
       "      <td>4.809045e-05</td>\n",
       "    </tr>\n",
       "    <tr>\n",
       "      <th>750.0</th>\n",
       "      <td>4.099548e-05</td>\n",
       "    </tr>\n",
       "    <tr>\n",
       "      <th>700.0</th>\n",
       "      <td>2.732179e-05</td>\n",
       "    </tr>\n",
       "    <tr>\n",
       "      <th>650.0</th>\n",
       "      <td>1.050884e-05</td>\n",
       "    </tr>\n",
       "    <tr>\n",
       "      <th>600.0</th>\n",
       "      <td>7.690059e-06</td>\n",
       "    </tr>\n",
       "    <tr>\n",
       "      <th>550.0</th>\n",
       "      <td>1.236125e-05</td>\n",
       "    </tr>\n",
       "    <tr>\n",
       "      <th>500.0</th>\n",
       "      <td>8.805157e-06</td>\n",
       "    </tr>\n",
       "    <tr>\n",
       "      <th>450.0</th>\n",
       "      <td>2.488380e-06</td>\n",
       "    </tr>\n",
       "    <tr>\n",
       "      <th>400.0</th>\n",
       "      <td>1.724905e-07</td>\n",
       "    </tr>\n",
       "    <tr>\n",
       "      <th>350.0</th>\n",
       "      <td>8.138459e-07</td>\n",
       "    </tr>\n",
       "    <tr>\n",
       "      <th>300.0</th>\n",
       "      <td>9.547586e-07</td>\n",
       "    </tr>\n",
       "    <tr>\n",
       "      <th>250.0</th>\n",
       "      <td>3.910787e-07</td>\n",
       "    </tr>\n",
       "    <tr>\n",
       "      <th>200.0</th>\n",
       "      <td>1.835401e-08</td>\n",
       "    </tr>\n",
       "    <tr>\n",
       "      <th>150.0</th>\n",
       "      <td>5.157882e-09</td>\n",
       "    </tr>\n",
       "    <tr>\n",
       "      <th>100.0</th>\n",
       "      <td>1.795825e-09</td>\n",
       "    </tr>\n",
       "  </tbody>\n",
       "</table>\n",
       "</div>"
      ],
      "text/plain": [
       "        Optical Thickness\n",
       "1000.0       5.284162e-05\n",
       "975.0        4.399260e-05\n",
       "950.0        4.131971e-05\n",
       "925.0        3.872974e-05\n",
       "900.0        7.043308e-05\n",
       "850.0        5.670890e-05\n",
       "800.0        4.809045e-05\n",
       "750.0        4.099548e-05\n",
       "700.0        2.732179e-05\n",
       "650.0        1.050884e-05\n",
       "600.0        7.690059e-06\n",
       "550.0        1.236125e-05\n",
       "500.0        8.805157e-06\n",
       "450.0        2.488380e-06\n",
       "400.0        1.724905e-07\n",
       "350.0        8.138459e-07\n",
       "300.0        9.547586e-07\n",
       "250.0        3.910787e-07\n",
       "200.0        1.835401e-08\n",
       "150.0        5.157882e-09\n",
       "100.0        1.795825e-09"
      ]
     },
     "execution_count": 3,
     "metadata": {},
     "output_type": "execute_result"
    }
   ],
   "source": [
    "optical_thickness_df_07"
   ]
  },
  {
   "cell_type": "markdown",
   "metadata": {},
   "source": [
    "Calculating expected radiance ($I_\\lambda$):\n",
    "\n",
    "$$\n",
    "I_\\lambda^\\uparrow (\\infty, \\mu)= B_\\lambda^\\uparrow (T_\\text{sfc}) e^{-\\tau^*_\\lambda / \\mu} + \\sum_{i=0}^N B_\\lambda^\\uparrow (z_i) \\frac{d\\mathfrak{T}_\\lambda^\\uparrow (z_i, \\infty, \\mu)}{dz} \\Delta z_i\n",
    "$$\n",
    "\n",
    "* $B_\\lambda^\\uparrow (T_\\text{sfc})$ is the blackbody radiance from the surface temperature\n",
    "* $\\tau^*$ is optical thickness of atmosphere\n",
    "* $\\mathfrak{T}_\\lambda^\\uparrow (z_i, \\infty, \\mu)$ is transmittance upward from height level ($z_i$) to TOA ($\\infty$) with viewing angle ($\\mu$)"
   ]
  },
  {
   "cell_type": "markdown",
   "metadata": {},
   "source": [
    "Calculating the blackbody radiance ($B_\\lambda^\\uparrow$):\n",
    "\n",
    "$$\n",
    "B_\\lambda (T) = \\frac{2hc^2}{\\lambda^5 [e^{hc/k\\lambda T} -1]}\n",
    "$$\n",
    "\n",
    "* $h$ is the Planck constant, $6.626 \\times 10^{-34} \\text{ J Hz}^{-1}$\n",
    "* $c$ is the speed of light, $3 \\times 10^{8} \\text{ m s}^{-1}$\n",
    "* $k$ is the Boltzmann constant, $1.380 \\times 10^{-23} \\text{ J K}^{-1}$"
   ]
  },
  {
   "cell_type": "code",
   "execution_count": 4,
   "metadata": {},
   "outputs": [],
   "source": [
    "def blackbody_radiance(T, wl):\n",
    "    h = 6.626e-34\n",
    "    c = 3e8\n",
    "    k = 1.380e-23\n",
    "    B = (2*h*c**2)/(wl**5 * np.exp((h*c)/(k*wl*T)-1))\n",
    "    return B\n"
   ]
  },
  {
   "cell_type": "code",
   "execution_count": 5,
   "metadata": {},
   "outputs": [
    {
     "name": "stdout",
     "output_type": "stream",
     "text": [
      "Wavelength: 3.9  um\n",
      "Radiance from surface: 1510607.4786554466  W m-2 sr-1\n"
     ]
    }
   ],
   "source": [
    "T_sfc = optical_mass_df['Temperature'].loc[1000.0]\n",
    "wl = 3.9e-6 #m\n",
    "print(\"Wavelength:\", wl*1e6, \" um\")\n",
    "\n",
    "mu = 1\n",
    "tau_star = optical_thickness_df_07['Optical Thickness'].sum()\n",
    "\n",
    "sfc_component = blackbody_radiance(T_sfc, wl)*np.exp(-tau_star/mu)\n",
    "\n",
    "print(\"Radiance from surface:\", sfc_component, \" W m-2 sr-1\")"
   ]
  },
  {
   "cell_type": "code",
   "execution_count": 6,
   "metadata": {},
   "outputs": [
    {
     "name": "stdout",
     "output_type": "stream",
     "text": [
      "Radiance from atmosphere:  11421413.172018493  W m-2 sr-1\n"
     ]
    }
   ],
   "source": [
    "I_levels = []\n",
    "mu = 1\n",
    "\n",
    "for i in range(len(optical_thickness_df_07)):\n",
    "    T = optical_mass_df['Temperature'].iloc[i]\n",
    "    B = blackbody_radiance(T, wl)\n",
    "    tau_star = optical_thickness_df_07['Optical Thickness'].iloc[i:].sum()\n",
    "    I_level = B*np.exp(-tau_star/mu)\n",
    "    \n",
    "    I_levels.append(I_level)\n",
    "\n",
    "I = np.sum(I_levels)\n",
    "print(\"Radiance from atmosphere: \", I, \" W m-2 sr-1\")"
   ]
  },
  {
   "cell_type": "code",
   "execution_count": null,
   "metadata": {},
   "outputs": [],
   "source": []
  }
 ],
 "metadata": {
  "kernelspec": {
   "display_name": "FLC",
   "language": "python",
   "name": "python3"
  },
  "language_info": {
   "codemirror_mode": {
    "name": "ipython",
    "version": 3
   },
   "file_extension": ".py",
   "mimetype": "text/x-python",
   "name": "python",
   "nbconvert_exporter": "python",
   "pygments_lexer": "ipython3",
   "version": "3.10.11"
  }
 },
 "nbformat": 4,
 "nbformat_minor": 2
}
