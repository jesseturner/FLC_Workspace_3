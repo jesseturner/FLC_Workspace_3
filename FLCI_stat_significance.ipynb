{
 "cells": [
  {
   "cell_type": "code",
   "execution_count": 1,
   "id": "59375e12",
   "metadata": {},
   "outputs": [],
   "source": [
    "import xarray as xr\n",
    "from scipy.stats import t\n",
    "import numpy as np"
   ]
  },
  {
   "cell_type": "code",
   "execution_count": 2,
   "id": "7dca5f2a",
   "metadata": {},
   "outputs": [],
   "source": [
    "gfs_file = 'composite/falkland_current/falkland_current_20240301.nc'\n",
    "gfs_ds = xr.open_dataset(gfs_file, decode_timedelta=False)"
   ]
  },
  {
   "cell_type": "code",
   "execution_count": 3,
   "id": "4425cd6b",
   "metadata": {},
   "outputs": [
    {
     "name": "stdout",
     "output_type": "stream",
     "text": [
      "Number of pixels in range: 3762\n"
     ]
    }
   ],
   "source": [
    "print(f'Number of pixels in range: {len(gfs_ds.latitude) * len(gfs_ds.longitude)}')"
   ]
  },
  {
   "cell_type": "markdown",
   "id": "7dde2b20",
   "metadata": {},
   "source": [
    "The one-sample t-test: \n",
    "\n",
    "$$\n",
    "t = \\frac{\\bar{x} - \\mu_0}{s / \\sqrt{n}}\n",
    "$$"
   ]
  },
  {
   "cell_type": "code",
   "execution_count": 4,
   "id": "d1efec21",
   "metadata": {},
   "outputs": [
    {
     "name": "stdout",
     "output_type": "stream",
     "text": [
      "Sample mean necessary to reach 99.0% confidence: 0.037944632394432354\n"
     ]
    }
   ],
   "source": [
    "#--- number of samples\n",
    "n = len(gfs_ds.latitude) * len(gfs_ds.longitude)\n",
    "\n",
    "#--- standard deviation, estimated from image\n",
    "s = 1\n",
    "\n",
    "#--- null sample mean of zero\n",
    "mu = 0\n",
    "\n",
    "#--- t-value\n",
    "alpha = 0.01  #--- the one-sided confidence interval\n",
    "t_critical = t.ppf(1 - alpha, n)\n",
    "\n",
    "#--- calculate the sample mean necessary to reach alpha\n",
    "x_bar = t_critical * s / np.sqrt(n) + mu\n",
    "print(f'Sample mean necessary to reach {(1-alpha)*100}% confidence: {x_bar}')"
   ]
  },
  {
   "cell_type": "code",
   "execution_count": null,
   "id": "66c3c7c6",
   "metadata": {},
   "outputs": [],
   "source": []
  }
 ],
 "metadata": {
  "kernelspec": {
   "display_name": "FLC_Workspace_3",
   "language": "python",
   "name": "python3"
  },
  "language_info": {
   "codemirror_mode": {
    "name": "ipython",
    "version": 3
   },
   "file_extension": ".py",
   "mimetype": "text/x-python",
   "name": "python",
   "nbconvert_exporter": "python",
   "pygments_lexer": "ipython3",
   "version": "3.13.2"
  }
 },
 "nbformat": 4,
 "nbformat_minor": 5
}
