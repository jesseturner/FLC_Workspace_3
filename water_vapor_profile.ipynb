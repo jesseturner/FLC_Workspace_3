{
 "cells": [
  {
   "cell_type": "code",
   "execution_count": 1,
   "metadata": {},
   "outputs": [],
   "source": [
    "import xarray as xr"
   ]
  },
  {
   "cell_type": "code",
   "execution_count": 3,
   "metadata": {},
   "outputs": [
    {
     "name": "stderr",
     "output_type": "stream",
     "text": [
      "skipping variable: paramId==228164 shortName='tcc'\n",
      "Traceback (most recent call last):\n",
      "  File \"/Applications/anaconda3/envs/flc_local/lib/python3.12/site-packages/cfgrib/dataset.py\", line 701, in build_dataset_components\n",
      "    dict_merge(variables, coord_vars)\n",
      "  File \"/Applications/anaconda3/envs/flc_local/lib/python3.12/site-packages/cfgrib/dataset.py\", line 629, in dict_merge\n",
      "    raise DatasetBuildError(\n",
      "cfgrib.dataset.DatasetBuildError: key present and new value is different: key='isobaricInhPa' value=Variable(dimensions=('isobaricInhPa',), data=array([1000.,  975.,  950.,  925.,  900.,  850.,  800.,  750.,  700.,\n",
      "        650.,  600.,  550.,  500.,  450.,  400.,  350.,  300.,  250.,\n",
      "        200.,  150.,  100.,   70.,   50.,   40.,   30.,   20.,   15.,\n",
      "         10.,    7.,    5.,    3.,    2.,    1.])) new_value=Variable(dimensions=('isobaricInhPa',), data=array([1000.,  975.,  950.,  925.,  900.,  850.,  800.,  750.,  700.,\n",
      "        650.,  600.,  550.,  500.,  450.,  400.,  350.,  300.,  250.,\n",
      "        200.,  150.,  100.,   50.]))\n",
      "skipping variable: paramId==260018 shortName='clwmr'\n",
      "Traceback (most recent call last):\n",
      "  File \"/Applications/anaconda3/envs/flc_local/lib/python3.12/site-packages/cfgrib/dataset.py\", line 701, in build_dataset_components\n",
      "    dict_merge(variables, coord_vars)\n",
      "  File \"/Applications/anaconda3/envs/flc_local/lib/python3.12/site-packages/cfgrib/dataset.py\", line 629, in dict_merge\n",
      "    raise DatasetBuildError(\n",
      "cfgrib.dataset.DatasetBuildError: key present and new value is different: key='isobaricInhPa' value=Variable(dimensions=('isobaricInhPa',), data=array([1000.,  975.,  950.,  925.,  900.,  850.,  800.,  750.,  700.,\n",
      "        650.,  600.,  550.,  500.,  450.,  400.,  350.,  300.,  250.,\n",
      "        200.,  150.,  100.,   70.,   50.,   40.,   30.,   20.,   15.,\n",
      "         10.,    7.,    5.,    3.,    2.,    1.])) new_value=Variable(dimensions=('isobaricInhPa',), data=array([1000.,  975.,  950.,  925.,  900.,  850.,  800.,  750.,  700.,\n",
      "        650.,  600.,  550.,  500.,  450.,  400.,  350.,  300.,  250.,\n",
      "        200.,  150.,  100.,   50.]))\n",
      "skipping variable: paramId==260019 shortName='icmr'\n",
      "Traceback (most recent call last):\n",
      "  File \"/Applications/anaconda3/envs/flc_local/lib/python3.12/site-packages/cfgrib/dataset.py\", line 701, in build_dataset_components\n",
      "    dict_merge(variables, coord_vars)\n",
      "  File \"/Applications/anaconda3/envs/flc_local/lib/python3.12/site-packages/cfgrib/dataset.py\", line 629, in dict_merge\n",
      "    raise DatasetBuildError(\n",
      "cfgrib.dataset.DatasetBuildError: key present and new value is different: key='isobaricInhPa' value=Variable(dimensions=('isobaricInhPa',), data=array([1000.,  975.,  950.,  925.,  900.,  850.,  800.,  750.,  700.,\n",
      "        650.,  600.,  550.,  500.,  450.,  400.,  350.,  300.,  250.,\n",
      "        200.,  150.,  100.,   70.,   50.,   40.,   30.,   20.,   15.,\n",
      "         10.,    7.,    5.,    3.,    2.,    1.])) new_value=Variable(dimensions=('isobaricInhPa',), data=array([1000.,  975.,  950.,  925.,  900.,  850.,  800.,  750.,  700.,\n",
      "        650.,  600.,  550.,  500.,  450.,  400.,  350.,  300.,  250.,\n",
      "        200.,  150.,  100.,   50.]))\n",
      "skipping variable: paramId==260020 shortName='rwmr'\n",
      "Traceback (most recent call last):\n",
      "  File \"/Applications/anaconda3/envs/flc_local/lib/python3.12/site-packages/cfgrib/dataset.py\", line 701, in build_dataset_components\n",
      "    dict_merge(variables, coord_vars)\n",
      "  File \"/Applications/anaconda3/envs/flc_local/lib/python3.12/site-packages/cfgrib/dataset.py\", line 629, in dict_merge\n",
      "    raise DatasetBuildError(\n",
      "cfgrib.dataset.DatasetBuildError: key present and new value is different: key='isobaricInhPa' value=Variable(dimensions=('isobaricInhPa',), data=array([1000.,  975.,  950.,  925.,  900.,  850.,  800.,  750.,  700.,\n",
      "        650.,  600.,  550.,  500.,  450.,  400.,  350.,  300.,  250.,\n",
      "        200.,  150.,  100.,   70.,   50.,   40.,   30.,   20.,   15.,\n",
      "         10.,    7.,    5.,    3.,    2.,    1.])) new_value=Variable(dimensions=('isobaricInhPa',), data=array([1000.,  975.,  950.,  925.,  900.,  850.,  800.,  750.,  700.,\n",
      "        650.,  600.,  550.,  500.,  450.,  400.,  350.,  300.,  250.,\n",
      "        200.,  150.,  100.,   50.]))\n",
      "skipping variable: paramId==260021 shortName='snmr'\n",
      "Traceback (most recent call last):\n",
      "  File \"/Applications/anaconda3/envs/flc_local/lib/python3.12/site-packages/cfgrib/dataset.py\", line 701, in build_dataset_components\n",
      "    dict_merge(variables, coord_vars)\n",
      "  File \"/Applications/anaconda3/envs/flc_local/lib/python3.12/site-packages/cfgrib/dataset.py\", line 629, in dict_merge\n",
      "    raise DatasetBuildError(\n",
      "cfgrib.dataset.DatasetBuildError: key present and new value is different: key='isobaricInhPa' value=Variable(dimensions=('isobaricInhPa',), data=array([1000.,  975.,  950.,  925.,  900.,  850.,  800.,  750.,  700.,\n",
      "        650.,  600.,  550.,  500.,  450.,  400.,  350.,  300.,  250.,\n",
      "        200.,  150.,  100.,   70.,   50.,   40.,   30.,   20.,   15.,\n",
      "         10.,    7.,    5.,    3.,    2.,    1.])) new_value=Variable(dimensions=('isobaricInhPa',), data=array([1000.,  975.,  950.,  925.,  900.,  850.,  800.,  750.,  700.,\n",
      "        650.,  600.,  550.,  500.,  450.,  400.,  350.,  300.,  250.,\n",
      "        200.,  150.,  100.,   50.]))\n",
      "skipping variable: paramId==260028 shortName='grle'\n",
      "Traceback (most recent call last):\n",
      "  File \"/Applications/anaconda3/envs/flc_local/lib/python3.12/site-packages/cfgrib/dataset.py\", line 701, in build_dataset_components\n",
      "    dict_merge(variables, coord_vars)\n",
      "  File \"/Applications/anaconda3/envs/flc_local/lib/python3.12/site-packages/cfgrib/dataset.py\", line 629, in dict_merge\n",
      "    raise DatasetBuildError(\n",
      "cfgrib.dataset.DatasetBuildError: key present and new value is different: key='isobaricInhPa' value=Variable(dimensions=('isobaricInhPa',), data=array([1000.,  975.,  950.,  925.,  900.,  850.,  800.,  750.,  700.,\n",
      "        650.,  600.,  550.,  500.,  450.,  400.,  350.,  300.,  250.,\n",
      "        200.,  150.,  100.,   70.,   50.,   40.,   30.,   20.,   15.,\n",
      "         10.,    7.,    5.,    3.,    2.,    1.])) new_value=Variable(dimensions=('isobaricInhPa',), data=array([1000.,  975.,  950.,  925.,  900.,  850.,  800.,  750.,  700.,\n",
      "        650.,  600.,  550.,  500.,  450.,  400.,  350.,  300.,  250.,\n",
      "        200.,  150.,  100.,   50.]))\n"
     ]
    }
   ],
   "source": [
    "gfs_file = 'model_data/gfs.t06z.pgrb2.0p25.f000'\n",
    "\n",
    "gfs_ds = xr.open_dataset(gfs_file, engine=\"cfgrib\",backend_kwargs={'filter_by_keys': {'typeOfLevel':'isobaricInhPa'}})\n"
   ]
  },
  {
   "cell_type": "code",
   "execution_count": null,
   "metadata": {},
   "outputs": [],
   "source": [
    "gfs_ds"
   ]
  }
 ],
 "metadata": {
  "kernelspec": {
   "display_name": "flc_local",
   "language": "python",
   "name": "python3"
  },
  "language_info": {
   "codemirror_mode": {
    "name": "ipython",
    "version": 3
   },
   "file_extension": ".py",
   "mimetype": "text/x-python",
   "name": "python",
   "nbconvert_exporter": "python",
   "pygments_lexer": "ipython3",
   "version": "3.12.2"
  }
 },
 "nbformat": 4,
 "nbformat_minor": 2
}
