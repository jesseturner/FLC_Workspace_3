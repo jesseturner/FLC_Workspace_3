{
 "cells": [
  {
   "cell_type": "markdown",
   "metadata": {},
   "source": [
    "# Looking for bias in the simulation"
   ]
  },
  {
   "cell_type": "markdown",
   "metadata": {},
   "source": [
    "**Libraries used:**"
   ]
  },
  {
   "cell_type": "code",
   "execution_count": 1,
   "metadata": {},
   "outputs": [],
   "source": [
    "import xarray as xr\n",
    "import matplotlib.pyplot as plt\n",
    "import numpy as np"
   ]
  },
  {
   "cell_type": "markdown",
   "metadata": {},
   "source": [
    "**Retrieve GFS and SST data:**"
   ]
  },
  {
   "cell_type": "code",
   "execution_count": 2,
   "metadata": {},
   "outputs": [],
   "source": [
    "date_str = \"20240614\""
   ]
  },
  {
   "cell_type": "code",
   "execution_count": 3,
   "metadata": {},
   "outputs": [
    {
     "name": "stderr",
     "output_type": "stream",
     "text": [
      "skipping variable: paramId==228164 shortName='tcc'\n",
      "Traceback (most recent call last):\n",
      "  File \"/Users/jturner/miniconda3/envs/FLC/lib/python3.10/site-packages/cfgrib/dataset.py\", line 676, in build_dataset_components\n",
      "    dict_merge(variables, coord_vars)\n",
      "  File \"/Users/jturner/miniconda3/envs/FLC/lib/python3.10/site-packages/cfgrib/dataset.py\", line 607, in dict_merge\n",
      "    raise DatasetBuildError(\n",
      "cfgrib.dataset.DatasetBuildError: key present and new value is different: key='isobaricInhPa' value=Variable(dimensions=('isobaricInhPa',), data=array([1000.,  975.,  950.,  925.,  900.,  850.,  800.,  750.,  700.,\n",
      "        650.,  600.,  550.,  500.,  450.,  400.,  350.,  300.,  250.,\n",
      "        200.,  150.,  100.,   70.,   50.,   40.,   30.,   20.,   15.,\n",
      "         10.,    7.,    5.,    3.,    2.,    1.])) new_value=Variable(dimensions=('isobaricInhPa',), data=array([1000.,  975.,  950.,  925.,  900.,  850.,  800.,  750.,  700.,\n",
      "        650.,  600.,  550.,  500.,  450.,  400.,  350.,  300.,  250.,\n",
      "        200.,  150.,  100.,   50.]))\n",
      "skipping variable: paramId==260018 shortName='clwmr'\n",
      "Traceback (most recent call last):\n",
      "  File \"/Users/jturner/miniconda3/envs/FLC/lib/python3.10/site-packages/cfgrib/dataset.py\", line 676, in build_dataset_components\n",
      "    dict_merge(variables, coord_vars)\n",
      "  File \"/Users/jturner/miniconda3/envs/FLC/lib/python3.10/site-packages/cfgrib/dataset.py\", line 607, in dict_merge\n",
      "    raise DatasetBuildError(\n",
      "cfgrib.dataset.DatasetBuildError: key present and new value is different: key='isobaricInhPa' value=Variable(dimensions=('isobaricInhPa',), data=array([1000.,  975.,  950.,  925.,  900.,  850.,  800.,  750.,  700.,\n",
      "        650.,  600.,  550.,  500.,  450.,  400.,  350.,  300.,  250.,\n",
      "        200.,  150.,  100.,   70.,   50.,   40.,   30.,   20.,   15.,\n",
      "         10.,    7.,    5.,    3.,    2.,    1.])) new_value=Variable(dimensions=('isobaricInhPa',), data=array([1000.,  975.,  950.,  925.,  900.,  850.,  800.,  750.,  700.,\n",
      "        650.,  600.,  550.,  500.,  450.,  400.,  350.,  300.,  250.,\n",
      "        200.,  150.,  100.,   50.]))\n",
      "skipping variable: paramId==260019 shortName='icmr'\n",
      "Traceback (most recent call last):\n",
      "  File \"/Users/jturner/miniconda3/envs/FLC/lib/python3.10/site-packages/cfgrib/dataset.py\", line 676, in build_dataset_components\n",
      "    dict_merge(variables, coord_vars)\n",
      "  File \"/Users/jturner/miniconda3/envs/FLC/lib/python3.10/site-packages/cfgrib/dataset.py\", line 607, in dict_merge\n",
      "    raise DatasetBuildError(\n",
      "cfgrib.dataset.DatasetBuildError: key present and new value is different: key='isobaricInhPa' value=Variable(dimensions=('isobaricInhPa',), data=array([1000.,  975.,  950.,  925.,  900.,  850.,  800.,  750.,  700.,\n",
      "        650.,  600.,  550.,  500.,  450.,  400.,  350.,  300.,  250.,\n",
      "        200.,  150.,  100.,   70.,   50.,   40.,   30.,   20.,   15.,\n",
      "         10.,    7.,    5.,    3.,    2.,    1.])) new_value=Variable(dimensions=('isobaricInhPa',), data=array([1000.,  975.,  950.,  925.,  900.,  850.,  800.,  750.,  700.,\n",
      "        650.,  600.,  550.,  500.,  450.,  400.,  350.,  300.,  250.,\n",
      "        200.,  150.,  100.,   50.]))\n",
      "skipping variable: paramId==260020 shortName='rwmr'\n",
      "Traceback (most recent call last):\n",
      "  File \"/Users/jturner/miniconda3/envs/FLC/lib/python3.10/site-packages/cfgrib/dataset.py\", line 676, in build_dataset_components\n",
      "    dict_merge(variables, coord_vars)\n",
      "  File \"/Users/jturner/miniconda3/envs/FLC/lib/python3.10/site-packages/cfgrib/dataset.py\", line 607, in dict_merge\n",
      "    raise DatasetBuildError(\n",
      "cfgrib.dataset.DatasetBuildError: key present and new value is different: key='isobaricInhPa' value=Variable(dimensions=('isobaricInhPa',), data=array([1000.,  975.,  950.,  925.,  900.,  850.,  800.,  750.,  700.,\n",
      "        650.,  600.,  550.,  500.,  450.,  400.,  350.,  300.,  250.,\n",
      "        200.,  150.,  100.,   70.,   50.,   40.,   30.,   20.,   15.,\n",
      "         10.,    7.,    5.,    3.,    2.,    1.])) new_value=Variable(dimensions=('isobaricInhPa',), data=array([1000.,  975.,  950.,  925.,  900.,  850.,  800.,  750.,  700.,\n",
      "        650.,  600.,  550.,  500.,  450.,  400.,  350.,  300.,  250.,\n",
      "        200.,  150.,  100.,   50.]))\n",
      "skipping variable: paramId==260021 shortName='snmr'\n",
      "Traceback (most recent call last):\n",
      "  File \"/Users/jturner/miniconda3/envs/FLC/lib/python3.10/site-packages/cfgrib/dataset.py\", line 676, in build_dataset_components\n",
      "    dict_merge(variables, coord_vars)\n",
      "  File \"/Users/jturner/miniconda3/envs/FLC/lib/python3.10/site-packages/cfgrib/dataset.py\", line 607, in dict_merge\n",
      "    raise DatasetBuildError(\n",
      "cfgrib.dataset.DatasetBuildError: key present and new value is different: key='isobaricInhPa' value=Variable(dimensions=('isobaricInhPa',), data=array([1000.,  975.,  950.,  925.,  900.,  850.,  800.,  750.,  700.,\n",
      "        650.,  600.,  550.,  500.,  450.,  400.,  350.,  300.,  250.,\n",
      "        200.,  150.,  100.,   70.,   50.,   40.,   30.,   20.,   15.,\n",
      "         10.,    7.,    5.,    3.,    2.,    1.])) new_value=Variable(dimensions=('isobaricInhPa',), data=array([1000.,  975.,  950.,  925.,  900.,  850.,  800.,  750.,  700.,\n",
      "        650.,  600.,  550.,  500.,  450.,  400.,  350.,  300.,  250.,\n",
      "        200.,  150.,  100.,   50.]))\n",
      "skipping variable: paramId==260028 shortName='grle'\n",
      "Traceback (most recent call last):\n",
      "  File \"/Users/jturner/miniconda3/envs/FLC/lib/python3.10/site-packages/cfgrib/dataset.py\", line 676, in build_dataset_components\n",
      "    dict_merge(variables, coord_vars)\n",
      "  File \"/Users/jturner/miniconda3/envs/FLC/lib/python3.10/site-packages/cfgrib/dataset.py\", line 607, in dict_merge\n",
      "    raise DatasetBuildError(\n",
      "cfgrib.dataset.DatasetBuildError: key present and new value is different: key='isobaricInhPa' value=Variable(dimensions=('isobaricInhPa',), data=array([1000.,  975.,  950.,  925.,  900.,  850.,  800.,  750.,  700.,\n",
      "        650.,  600.,  550.,  500.,  450.,  400.,  350.,  300.,  250.,\n",
      "        200.,  150.,  100.,   70.,   50.,   40.,   30.,   20.,   15.,\n",
      "         10.,    7.,    5.,    3.,    2.,    1.])) new_value=Variable(dimensions=('isobaricInhPa',), data=array([1000.,  975.,  950.,  925.,  900.,  850.,  800.,  750.,  700.,\n",
      "        650.,  600.,  550.,  500.,  450.,  400.,  350.,  300.,  250.,\n",
      "        200.,  150.,  100.,   50.]))\n"
     ]
    }
   ],
   "source": [
    "gfs_file = 'model_data/gfs_'+date_str\n",
    "gfs_ds = xr.open_dataset(gfs_file, engine=\"cfgrib\",backend_kwargs={'filter_by_keys': {'typeOfLevel':'isobaricInhPa'}})"
   ]
  },
  {
   "cell_type": "code",
   "execution_count": 4,
   "metadata": {},
   "outputs": [],
   "source": [
    "sst_file = \"sst_data/sst_\"+date_str\n",
    "\n",
    "sst_ds = xr.open_dataset(sst_file)\n",
    "sst_ds =  sst_ds.squeeze()\n",
    "\n",
    "#--- Convert from C to K\n",
    "sst_ds.sst.values = sst_ds.sst.values+273.15"
   ]
  },
  {
   "cell_type": "markdown",
   "metadata": {},
   "source": [
    "**Retrieve the GOES data:**"
   ]
  },
  {
   "cell_type": "code",
   "execution_count": null,
   "metadata": {},
   "outputs": [],
   "source": []
  }
 ],
 "metadata": {
  "kernelspec": {
   "display_name": "FLC",
   "language": "python",
   "name": "python3"
  },
  "language_info": {
   "codemirror_mode": {
    "name": "ipython",
    "version": 3
   },
   "file_extension": ".py",
   "mimetype": "text/x-python",
   "name": "python",
   "nbconvert_exporter": "python",
   "pygments_lexer": "ipython3",
   "version": "3.10.11"
  }
 },
 "nbformat": 4,
 "nbformat_minor": 2
}
